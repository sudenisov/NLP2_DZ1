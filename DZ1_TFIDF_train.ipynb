{
 "cells": [
  {
   "cell_type": "code",
   "execution_count": 7,
   "id": "b2007c6b",
   "metadata": {
    "execution": {
     "iopub.execute_input": "2023-09-26T21:09:53.784259Z",
     "iopub.status.busy": "2023-09-26T21:09:53.783770Z",
     "iopub.status.idle": "2023-09-26T21:10:02.988491Z",
     "shell.execute_reply": "2023-09-26T21:10:02.987430Z"
    },
    "papermill": {
     "duration": 9.221042,
     "end_time": "2023-09-26T21:10:02.991840",
     "exception": false,
     "start_time": "2023-09-26T21:09:53.770798",
     "status": "completed"
    },
    "tags": []
   },
   "outputs": [],
   "source": [
    "import numpy as np\n",
    "\n",
    "import random\n",
    "\n",
    "import nltk\n",
    "from nltk.stem.porter import PorterStemmer\t\n",
    "stemmer = PorterStemmer()\n",
    "\n",
    "from transformers import BertTokenizer\n",
    "\n",
    "import torch\n",
    "import torch.nn as nn\n",
    "from torch.utils.data import Dataset, DataLoader\n",
    "\n",
    "import warnings \n",
    "warnings.filterwarnings('ignore')\n",
    "\n",
    "from sklearn.feature_extraction.text import TfidfVectorizer\n",
    "from sklearn.metrics.pairwise import cosine_similarity\n",
    "from sklearn.neighbors import NearestNeighbors\n",
    "from sklearn.pipeline import make_pipeline\n",
    "\n",
    "import joblib\n"
   ]
  },
  {
   "cell_type": "code",
   "execution_count": 8,
   "id": "4c368092",
   "metadata": {},
   "outputs": [],
   "source": [
    "from DZ1_data import GetData"
   ]
  },
  {
   "cell_type": "code",
   "execution_count": 9,
   "id": "24fed81f",
   "metadata": {},
   "outputs": [],
   "source": [
    "elrian_dialogues, leonard_dialogues = GetData()"
   ]
  },
  {
   "cell_type": "code",
   "execution_count": 10,
   "id": "c2014d97",
   "metadata": {},
   "outputs": [],
   "source": [
    "def preprocess_dataset(elrian_dialogues, leonard_dialogues, tokenizer):\n",
    "    inputs = []\n",
    "    labels = []\n",
    "\n",
    "    for elrian_dialogue, leonard_dialogue in zip(elrian_dialogues, leonard_dialogues):\n",
    "        # Tokenize вопрос и ответ\n",
    "        elrian_tokens = tokenizer.tokenize(tokenizer.decode(tokenizer.encode(elrian_dialogue, add_special_tokens=True)))\n",
    "        leonard_tokens = tokenizer.tokenize(tokenizer.decode(tokenizer.encode(leonard_dialogue, add_special_tokens=True)))\n",
    "\n",
    "        # Формирование входных и выходных данных\n",
    "        inputs.append(elrian_tokens)\n",
    "        labels.append(leonard_tokens)\n",
    "\n",
    "    # Преобразование в тензоры PyTorch\n",
    "    inputs = [torch.tensor(tokenizer.encode(tokens, add_special_tokens=True)) for tokens in inputs]\n",
    "    labels = [torch.tensor(tokenizer.encode(tokens, add_special_tokens=True)) for tokens in labels]\n",
    "    return inputs, labels"
   ]
  },
  {
   "cell_type": "code",
   "execution_count": 13,
   "id": "4324df3d",
   "metadata": {},
   "outputs": [],
   "source": [
    "# Загрузка предварительно обученного токенизатора BERT\n",
    "tokenizer = BertTokenizer.from_pretrained('bert-base-uncased')\n",
    "\n",
    "# Подготовка данных\n",
    "inputs, labels = preprocess_dataset(elrian_dialogues, leonard_dialogues, tokenizer)\n"
   ]
  },
  {
   "cell_type": "code",
   "execution_count": 14,
   "id": "d4132f07",
   "metadata": {},
   "outputs": [
    {
     "name": "stdout",
     "output_type": "stream",
     "text": [
      "Input: tensor([ 101,  101, 2339, 2106, 2017, 2272, 2000, 1996, 3224, 1029,  102,  102])\n",
      "Label: tensor([ 101,  101, 1045, 1005, 1049, 2559, 2005, 2019, 3418, 3379, 1010, 1045,\n",
      "        1005, 2310, 2657, 9489, 2055, 2009, 1012,  102,  102])\n"
     ]
    }
   ],
   "source": [
    "# Вывод примера данных\n",
    "print(\"Input:\", inputs[0])\n",
    "print(\"Label:\", labels[0])"
   ]
  },
  {
   "cell_type": "code",
   "execution_count": 21,
   "id": "131b69e2",
   "metadata": {},
   "outputs": [],
   "source": [
    "vectorizer, retrieval_model = train_retrieval_model(inputs, labels)"
   ]
  },
  {
   "cell_type": "code",
   "execution_count": 23,
   "id": "64b69362",
   "metadata": {},
   "outputs": [
    {
     "data": {
      "text/plain": [
       "['./DZ1model/TFIDF/tokenizer.joblib']"
      ]
     },
     "execution_count": 23,
     "metadata": {},
     "output_type": "execute_result"
    }
   ],
   "source": [
    "joblib.dump(vectorizer, \"./DZ1model/TFIDF/vectorizer.joblib\")\n",
    "joblib.dump(retrieval_model, './DZ1model/TFIDF/modelTFIDF.joblib')\n",
    "joblib.dump(labels, \"./DZ1model/TFIDF/labels.joblib\")\n",
    "joblib.dump(tokenizer, \"./DZ1model/TFIDF/tokenizer.joblib\")"
   ]
  }
 ],
 "metadata": {
  "kernelspec": {
   "display_name": "Python 3",
   "language": "python",
   "name": "python3"
  },
  "language_info": {
   "codemirror_mode": {
    "name": "ipython",
    "version": 3
   },
   "file_extension": ".py",
   "mimetype": "text/x-python",
   "name": "python",
   "nbconvert_exporter": "python",
   "pygments_lexer": "ipython3",
   "version": "3.10.13"
  },
  "papermill": {
   "default_parameters": {},
   "duration": 399.754217,
   "end_time": "2023-09-26T21:16:30.019434",
   "environment_variables": {},
   "exception": null,
   "input_path": "__notebook__.ipynb",
   "output_path": "__notebook__.ipynb",
   "parameters": {},
   "start_time": "2023-09-26T21:09:50.265217",
   "version": "2.4.0"
  }
 },
 "nbformat": 4,
 "nbformat_minor": 5
}
