{
 "cells": [
  {
   "cell_type": "code",
   "execution_count": 4,
   "id": "b2007c6b",
   "metadata": {
    "execution": {
     "iopub.execute_input": "2023-09-26T21:09:53.784259Z",
     "iopub.status.busy": "2023-09-26T21:09:53.783770Z",
     "iopub.status.idle": "2023-09-26T21:10:02.988491Z",
     "shell.execute_reply": "2023-09-26T21:10:02.987430Z"
    },
    "papermill": {
     "duration": 9.221042,
     "end_time": "2023-09-26T21:10:02.991840",
     "exception": false,
     "start_time": "2023-09-26T21:09:53.770798",
     "status": "completed"
    },
    "tags": []
   },
   "outputs": [],
   "source": [
    "import numpy as np\n",
    "\n",
    "import unicodedata\n",
    "import re\n",
    "import json\n",
    "import random\n",
    "\n",
    "import nltk\n",
    "from nltk.stem.porter import PorterStemmer\t\n",
    "stemmer = PorterStemmer()\n",
    "\n",
    "from transformers import BertTokenizer\n",
    "\n",
    "import torch\n",
    "import torch.nn as nn\n",
    "from torch.utils.data import Dataset, DataLoader\n",
    "\n",
    "import warnings \n",
    "warnings.filterwarnings('ignore')\n",
    "\n",
    "from gensim.models import Word2Vec\n",
    "from gensim.models.word2vec import LineSentence\n",
    "\n",
    "import joblib"
   ]
  },
  {
   "cell_type": "code",
   "execution_count": 5,
   "id": "22cdca08",
   "metadata": {},
   "outputs": [],
   "source": [
    "from DZ1_data import GetData"
   ]
  },
  {
   "cell_type": "code",
   "execution_count": 6,
   "id": "4483ef35",
   "metadata": {},
   "outputs": [],
   "source": [
    "elrian_dialogues, leonard_dialogues = GetData()"
   ]
  },
  {
   "cell_type": "code",
   "execution_count": 8,
   "id": "a924412d",
   "metadata": {},
   "outputs": [],
   "source": [
    "# Преобразование входных и выходных данных в строки\n",
    "corpus = []\n",
    "for elrian_dialogue, leonard_dialogue in zip(elrian_dialogues, leonard_dialogues):\n",
    "    sentence = ' '.join([elrian_dialogue, leonard_dialogue])\n",
    "    corpus.append(sentence)\n",
    "\n",
    "# Запись строк в файл\n",
    "with open('./data/corpus.txt', 'w', encoding='utf-8') as f:\n",
    "    f.write('\\n'.join(corpus))\n",
    "\n",
    "# Загрузка данных из файла\n",
    "data_corpus = LineSentence('./data/corpus.txt')"
   ]
  },
  {
   "cell_type": "code",
   "execution_count": 9,
   "id": "8ae4b624",
   "metadata": {},
   "outputs": [],
   "source": [
    "# Обучение Word2Vec модели\n",
    "word2vec_model = Word2Vec(sentences=data_corpus, vector_size=100, window=5, min_count=1, workers=4)\n",
    "\n",
    "# Функция для получения вектора предложения\n",
    "def sentence_vectorizer(sentence, model):\n",
    "    vectors = [model.wv[word] for word in sentence if word in model.wv]\n",
    "    return np.mean(vectors, axis=0) if vectors else np.zeros(model.vector_size)\n",
    "\n",
    "# Векторизация вопросов и ответов\n",
    "question_vectors = [sentence_vectorizer(sentence, word2vec_model) for sentence in data_corpus]"
   ]
  },
  {
   "cell_type": "code",
   "execution_count": 11,
   "id": "905cf0e6",
   "metadata": {},
   "outputs": [
    {
     "data": {
      "text/plain": [
       "['./DZ1model/word2vec/question_vectors.joblib']"
      ]
     },
     "execution_count": 11,
     "metadata": {},
     "output_type": "execute_result"
    }
   ],
   "source": [
    "# Сохранение Word2Vec модели\n",
    "word2vec_model.save(\"./DZ1model/word2vec/model\")\n",
    "\n",
    "# Сохранение векторов\n",
    "joblib.dump(question_vectors, \"./DZ1model/word2vec/question_vectors.joblib\")"
   ]
  }
 ],
 "metadata": {
  "kernelspec": {
   "display_name": "Python 3",
   "language": "python",
   "name": "python3"
  },
  "language_info": {
   "codemirror_mode": {
    "name": "ipython",
    "version": 3
   },
   "file_extension": ".py",
   "mimetype": "text/x-python",
   "name": "python",
   "nbconvert_exporter": "python",
   "pygments_lexer": "ipython3",
   "version": "3.10.13"
  },
  "papermill": {
   "default_parameters": {},
   "duration": 399.754217,
   "end_time": "2023-09-26T21:16:30.019434",
   "environment_variables": {},
   "exception": null,
   "input_path": "__notebook__.ipynb",
   "output_path": "__notebook__.ipynb",
   "parameters": {},
   "start_time": "2023-09-26T21:09:50.265217",
   "version": "2.4.0"
  }
 },
 "nbformat": 4,
 "nbformat_minor": 5
}
