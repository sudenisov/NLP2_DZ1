{
 "cells": [
  {
   "cell_type": "code",
   "execution_count": 1,
   "id": "b2007c6b",
   "metadata": {
    "execution": {
     "iopub.execute_input": "2023-09-26T21:09:53.784259Z",
     "iopub.status.busy": "2023-09-26T21:09:53.783770Z",
     "iopub.status.idle": "2023-09-26T21:10:02.988491Z",
     "shell.execute_reply": "2023-09-26T21:10:02.987430Z"
    },
    "papermill": {
     "duration": 9.221042,
     "end_time": "2023-09-26T21:10:02.991840",
     "exception": false,
     "start_time": "2023-09-26T21:09:53.770798",
     "status": "completed"
    },
    "tags": []
   },
   "outputs": [],
   "source": [
    "import numpy as np\n",
    "\n",
    "import unicodedata\n",
    "import re\n",
    "import json\n",
    "import random\n",
    "\n",
    "import nltk\n",
    "from nltk.stem.porter import PorterStemmer\t\n",
    "stemmer = PorterStemmer()\n",
    "\n",
    "from transformers import BertTokenizer\n",
    "\n",
    "import torch\n",
    "import torch.nn as nn\n",
    "from torch.utils.data import Dataset, DataLoader\n",
    "\n",
    "import warnings \n",
    "warnings.filterwarnings('ignore')\n",
    "\n",
    "from gensim.models import Word2Vec\n",
    "from gensim.models.word2vec import LineSentence\n",
    "\n",
    "import joblib"
   ]
  },
  {
   "cell_type": "code",
   "execution_count": 2,
   "id": "3af545bf",
   "metadata": {},
   "outputs": [],
   "source": [
    "# Функция для получения вектора предложения\n",
    "def sentence_vectorizer(sentence, model):\n",
    "    vectors = [model.wv[word] for word in sentence if word in model.wv]\n",
    "    return np.mean(vectors, axis=0) if vectors else np.zeros(model.vector_size)\n"
   ]
  },
  {
   "cell_type": "code",
   "execution_count": 6,
   "id": "905cf0e6",
   "metadata": {},
   "outputs": [],
   "source": [
    "# Загрузка Word2Vec модели\n",
    "word2vec_model = Word2Vec.load(\"./DZ1model/word2vec/model\")\n",
    "\n",
    "# Загрузка векторов вопросов\n",
    "question_vectors = joblib.load(\"./DZ1model/word2vec/question_vectors.joblib\")\n",
    "\n",
    "corpus = []\n",
    "with open('./data/corpus.txt', 'r', encoding='utf-8') as file:\n",
    "    for line in file:\n",
    "        corpus.append(line)"
   ]
  },
  {
   "cell_type": "code",
   "execution_count": 9,
   "id": "554abfcb",
   "metadata": {},
   "outputs": [
    {
     "name": "stdout",
     "output_type": "stream",
     "text": [
      "User Question: ['How are you?']\n",
      "Retrieval-Based Response: Why did you come to the forest? I'm looking for an ancient temple, I've heard legends about it.\n",
      "\n"
     ]
    }
   ],
   "source": [
    "# Пример использования\n",
    "user_question = [\"How are you?\"]\n",
    "\n",
    "# Получение вектора вопроса\n",
    "user_question_vector = sentence_vectorizer(user_question, word2vec_model)\n",
    "\n",
    "# Рассчитывается косинусное сходство между вектором вопроса пользователя и векторами вопросов в корпусе\n",
    "similarities = [np.dot(user_question_vector, question_vector) / (np.linalg.norm(user_question_vector) * np.linalg.norm(question_vector)) for question_vector in question_vectors]\n",
    "\n",
    "# Получение индекса наиболее подходящего ответа\n",
    "most_similar_index = np.argmax(similarities)\n",
    "\n",
    "# Получение ответа\n",
    "response = corpus[most_similar_index]\n",
    "\n",
    "print(\"User Question:\", user_question)\n",
    "print(\"Retrieval-Based Response:\", response)\n",
    "\n"
   ]
  }
 ],
 "metadata": {
  "kernelspec": {
   "display_name": "Python 3",
   "language": "python",
   "name": "python3"
  },
  "language_info": {
   "codemirror_mode": {
    "name": "ipython",
    "version": 3
   },
   "file_extension": ".py",
   "mimetype": "text/x-python",
   "name": "python",
   "nbconvert_exporter": "python",
   "pygments_lexer": "ipython3",
   "version": "3.10.13"
  },
  "papermill": {
   "default_parameters": {},
   "duration": 399.754217,
   "end_time": "2023-09-26T21:16:30.019434",
   "environment_variables": {},
   "exception": null,
   "input_path": "__notebook__.ipynb",
   "output_path": "__notebook__.ipynb",
   "parameters": {},
   "start_time": "2023-09-26T21:09:50.265217",
   "version": "2.4.0"
  }
 },
 "nbformat": 4,
 "nbformat_minor": 5
}
