{
 "cells": [
  {
   "cell_type": "code",
   "execution_count": 4,
   "id": "b2007c6b",
   "metadata": {
    "execution": {
     "iopub.execute_input": "2023-09-26T21:09:53.784259Z",
     "iopub.status.busy": "2023-09-26T21:09:53.783770Z",
     "iopub.status.idle": "2023-09-26T21:10:02.988491Z",
     "shell.execute_reply": "2023-09-26T21:10:02.987430Z"
    },
    "papermill": {
     "duration": 9.221042,
     "end_time": "2023-09-26T21:10:02.991840",
     "exception": false,
     "start_time": "2023-09-26T21:09:53.770798",
     "status": "completed"
    },
    "tags": []
   },
   "outputs": [],
   "source": [
    "import numpy as np\n",
    "\n",
    "import random\n",
    "\n",
    "import nltk\n",
    "from nltk.stem.porter import PorterStemmer\t\n",
    "stemmer = PorterStemmer()\n",
    "\n",
    "from transformers import BertTokenizer\n",
    "\n",
    "import torch\n",
    "import torch.nn as nn\n",
    "from torch.utils.data import Dataset, DataLoader\n",
    "\n",
    "import warnings \n",
    "warnings.filterwarnings('ignore')\n",
    "\n",
    "from sklearn.feature_extraction.text import TfidfVectorizer\n",
    "from sklearn.metrics.pairwise import cosine_similarity\n",
    "from sklearn.neighbors import NearestNeighbors\n",
    "from sklearn.pipeline import make_pipeline\n",
    "\n",
    "import joblib\n"
   ]
  },
  {
   "cell_type": "code",
   "execution_count": 5,
   "id": "059de39a",
   "metadata": {},
   "outputs": [],
   "source": [
    "vectorizer = joblib.load('./DZ1model/TFIDF/vectorizer.joblib')\n",
    "model = joblib.load('./DZ1model/TFIDF/modelTFIDF.joblib')\n",
    "labels = joblib.load('./DZ1model/TFIDF/labels.joblib')\n",
    "tokenizer = joblib.load('./DZ1model/TFIDF/tokenizer.joblib')"
   ]
  },
  {
   "cell_type": "code",
   "execution_count": 6,
   "id": "09404233",
   "metadata": {},
   "outputs": [],
   "source": [
    "def get_response(question, vectorizer, model):\n",
    "    question_vector = vectorizer.transform([question])\n",
    "    _, indices = model.kneighbors(question_vector)\n",
    "    response_index = indices[0][0]\n",
    "    return labels[response_index]"
   ]
  },
  {
   "cell_type": "code",
   "execution_count": 7,
   "id": "0f2f7ba5",
   "metadata": {},
   "outputs": [
    {
     "name": "stdout",
     "output_type": "stream",
     "text": [
      "User Question: What is the meaning of life?\n",
      "Retrieval-Based Response: [CLS] [CLS] i wonder what it could be. we must be prepared for anything. let's get closer and see what's hidden in this light. [SEP] [SEP]\n"
     ]
    }
   ],
   "source": [
    "# Пример использования\n",
    "user_question = \"What is the meaning of life?\"\n",
    "response = get_response(user_question, vectorizer, model)\n",
    "result = tokenizer.decode(response)\n",
    "print(\"User Question:\", user_question)\n",
    "print(\"Retrieval-Based Response:\", result)"
   ]
  }
 ],
 "metadata": {
  "kernelspec": {
   "display_name": "Python 3",
   "language": "python",
   "name": "python3"
  },
  "language_info": {
   "codemirror_mode": {
    "name": "ipython",
    "version": 3
   },
   "file_extension": ".py",
   "mimetype": "text/x-python",
   "name": "python",
   "nbconvert_exporter": "python",
   "pygments_lexer": "ipython3",
   "version": "3.10.13"
  },
  "papermill": {
   "default_parameters": {},
   "duration": 399.754217,
   "end_time": "2023-09-26T21:16:30.019434",
   "environment_variables": {},
   "exception": null,
   "input_path": "__notebook__.ipynb",
   "output_path": "__notebook__.ipynb",
   "parameters": {},
   "start_time": "2023-09-26T21:09:50.265217",
   "version": "2.4.0"
  }
 },
 "nbformat": 4,
 "nbformat_minor": 5
}
